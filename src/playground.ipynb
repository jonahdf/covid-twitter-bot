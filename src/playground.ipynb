{
 "cells": [
  {
   "cell_type": "markdown",
   "source": [
    "This is my notebook file for playing around with new features, testing, etc."
   ],
   "metadata": {}
  },
  {
   "cell_type": "code",
   "execution_count": 2,
   "source": [
    "%load_ext autoreload"
   ],
   "outputs": [],
   "metadata": {}
  },
  {
   "cell_type": "code",
   "execution_count": 3,
   "source": [
    "%autoreload 2"
   ],
   "outputs": [],
   "metadata": {}
  },
  {
   "cell_type": "code",
   "execution_count": 4,
   "source": [
    "import pandas as pd\r\n",
    "import matplotlib.pyplot as plt\r\n",
    "from sodapy import Socrata\r\n",
    "import datetime\r\n",
    "import numpy as np\r\n",
    "import matplotlib.dates as mdates\r\n",
    "import data_processing as dp\r\n",
    "import definitions\r\n",
    "import data_viz as dv\r\n",
    "pd.set_option(\"display.max_rows\", None)\r\n",
    "import plotly.express as px\r\n",
    "import definitions\r\n",
    "import kaleido"
   ],
   "outputs": [],
   "metadata": {}
  },
  {
   "cell_type": "code",
   "execution_count": 5,
   "source": [
    "import plotly.io as pio\r\n",
    "pio.renderers.default = \"notebook_connected\"\r\n",
    "import dash\r\n",
    "from dash import dcc\r\n",
    "from dash import html"
   ],
   "outputs": [],
   "metadata": {}
  },
  {
   "cell_type": "code",
   "execution_count": 6,
   "source": [
    "dp.get_data()"
   ],
   "outputs": [
    {
     "output_type": "stream",
     "name": "stderr",
     "text": [
      "WARNING:root:Requests made without an app_token will be subject to strict throttling limits.\n"
     ]
    },
    {
     "output_type": "stream",
     "name": "stdout",
     "text": [
      "LOG: Fetched all raw data\n",
      "LOG: Filtered Data\n",
      "LOG: Added HHS Provisional data\n",
      "LOG: Done getting data\n"
     ]
    }
   ],
   "metadata": {}
  },
  {
   "cell_type": "code",
   "execution_count": 8,
   "source": [
    "state_hosps = pd.DataFrame(columns=['State', 'Hospitalizations'])\r\n",
    "for state in definitions.states.keys():\r\n",
    "    state_data = dp.hhs_data[dp.hhs_data.state.isin([state])]\r\n",
    "    state_data = state_data[state_data['date'] <= pd.Timestamp.today()]\r\n",
    "    hosps = state_data[state_data['date'] == state_data['date'].max()].inpatient_beds_used_covid.values\r\n",
    "    if not hosps:\r\n",
    "        hosps = False\r\n",
    "    else:\r\n",
    "        hosps = hosps[0]/definitions.populations[definitions.states[state]]*1000000\r\n",
    "        state_hosps = state_hosps.append({\"State\":state, \"Hospitalizations\": float(hosps)}, ignore_index=True)\r\n",
    "hosp_fig = px.choropleth(state_hosps, locations='State', locationmode=\"USA-states\", color=\"Hospitalizations\", scope=\"usa\", color_continuous_scale='YlOrRd')\r\n",
    "# fig.show()"
   ],
   "outputs": [],
   "metadata": {}
  },
  {
   "cell_type": "code",
   "execution_count": 11,
   "source": [
    "state_cases = pd.DataFrame(columns=['State', 'Cases'])\r\n",
    "for state in definitions.states.keys():\r\n",
    "    state_data = dp.get_state_cases([state], start_date=(pd.Timestamp.today() - pd.Timedelta(days=7)).date()) # adjust end date here\r\n",
    "    if state_data.empty:\r\n",
    "        cases = False\r\n",
    "    else:\r\n",
    "        cases = state_data[state_data['date'] == state_data['date'].max()].cases.values\r\n",
    "        \r\n",
    "        cases = cases[0]/definitions.populations[definitions.states[state]]*1000000\r\n",
    "        state_cases = state_cases.append({\"State\":state, \"Cases\": float(cases)}, ignore_index=True)\r\n",
    "case_fig = px.choropleth(state_cases, locations='State', locationmode=\"USA-states\", color=\"Cases\", scope=\"usa\", color_continuous_scale='Purples')"
   ],
   "outputs": [],
   "metadata": {}
  },
  {
   "cell_type": "code",
   "execution_count": 14,
   "source": [
    "app = dash.Dash(__name__)\r\n",
    "app.layout = html.Div(children=[\r\n",
    "    html.H1(children='Covid-Twitter-Bot-Dashboard'),\r\n",
    "\r\n",
    "    html.Div(children='''\r\n",
    "        Hospitalizations per capita\r\n",
    "    ''', justify=\"center\", align=\"center\"),\r\n",
    "\r\n",
    "    dcc.Graph(\r\n",
    "    id='example-graph',\r\n",
    "    figure=case_fig\r\n",
    "    ),\r\n",
    "\r\n",
    "    dcc.Graph(\r\n",
    "    id='example-grap2h',\r\n",
    "    figure=hosp_fig\r\n",
    "    ),\r\n",
    "    \r\n",
    "])\r\n",
    "\r\n",
    "if __name__ == '__main__':\r\n",
    "    app.run_server()"
   ],
   "outputs": [
    {
     "output_type": "stream",
     "name": "stdout",
     "text": [
      "Dash is running on http://127.0.0.1:8050/\n",
      "\n",
      "Dash is running on http://127.0.0.1:8050/\n",
      "\n",
      "Dash is running on http://127.0.0.1:8050/\n",
      "\n",
      "Dash is running on http://127.0.0.1:8050/\n",
      "\n"
     ]
    },
    {
     "output_type": "stream",
     "name": "stderr",
     "text": [
      "INFO:__main__:Dash is running on http://127.0.0.1:8050/\n",
      "\n"
     ]
    },
    {
     "output_type": "stream",
     "name": "stdout",
     "text": [
      " * Serving Flask app \"__main__\" (lazy loading)\n",
      " * Environment: production\n",
      "   WARNING: This is a development server. Do not use it in a production deployment.\n",
      "   Use a production WSGI server instead.\n",
      " * Debug mode: off\n"
     ]
    },
    {
     "output_type": "stream",
     "name": "stderr",
     "text": [
      "INFO:werkzeug: * Running on http://127.0.0.1:8050/ (Press CTRL+C to quit)\n",
      "INFO:werkzeug:127.0.0.1 - - [06/Oct/2021 19:58:38] \"\u001b[37mGET / HTTP/1.1\u001b[0m\" 200 -\n",
      "INFO:werkzeug:127.0.0.1 - - [06/Oct/2021 19:58:38] \"\u001b[37mGET /_dash-component-suites/dash/deps/polyfill@7.v2_0_0m1633284190.12.1.min.js HTTP/1.1\u001b[0m\" 200 -\n",
      "INFO:werkzeug:127.0.0.1 - - [06/Oct/2021 19:58:38] \"\u001b[37mGET /_dash-component-suites/dash/deps/react@16.v2_0_0m1633284190.14.0.min.js HTTP/1.1\u001b[0m\" 200 -\n",
      "INFO:werkzeug:127.0.0.1 - - [06/Oct/2021 19:58:38] \"\u001b[37mGET /_dash-component-suites/dash/deps/react-dom@16.v2_0_0m1633284190.14.0.min.js HTTP/1.1\u001b[0m\" 200 -\n",
      "INFO:werkzeug:127.0.0.1 - - [06/Oct/2021 19:58:38] \"\u001b[37mGET /_dash-component-suites/dash/deps/prop-types@15.v2_0_0m1633284190.7.2.min.js HTTP/1.1\u001b[0m\" 200 -\n",
      "INFO:werkzeug:127.0.0.1 - - [06/Oct/2021 19:58:38] \"\u001b[37mGET /_dash-component-suites/dash/dash-renderer/build/dash_renderer.v2_0_0m1633284190.min.js HTTP/1.1\u001b[0m\" 200 -\n",
      "INFO:werkzeug:127.0.0.1 - - [06/Oct/2021 19:58:38] \"\u001b[37mGET /_dash-component-suites/dash/dcc/dash_core_components.v2_0_0m1633284190.js HTTP/1.1\u001b[0m\" 200 -\n",
      "INFO:werkzeug:127.0.0.1 - - [06/Oct/2021 19:58:38] \"\u001b[37mGET /_dash-component-suites/dash/dcc/dash_core_components-shared.v2_0_0m1633284190.js HTTP/1.1\u001b[0m\" 200 -\n",
      "INFO:werkzeug:127.0.0.1 - - [06/Oct/2021 19:58:38] \"\u001b[37mGET /_dash-component-suites/dash/html/dash_html_components.v2_0_0m1633284191.min.js HTTP/1.1\u001b[0m\" 200 -\n",
      "INFO:werkzeug:127.0.0.1 - - [06/Oct/2021 19:58:38] \"\u001b[37mGET /_dash-component-suites/dash/dash_table/bundle.v5_0_0m1633284190.js HTTP/1.1\u001b[0m\" 200 -\n",
      "INFO:werkzeug:127.0.0.1 - - [06/Oct/2021 19:58:39] \"\u001b[37mGET /_dash-layout HTTP/1.1\u001b[0m\" 200 -\n",
      "INFO:werkzeug:127.0.0.1 - - [06/Oct/2021 19:58:39] \"\u001b[37mGET /_dash-dependencies HTTP/1.1\u001b[0m\" 200 -\n",
      "INFO:werkzeug:127.0.0.1 - - [06/Oct/2021 19:58:39] \"\u001b[36mGET /_dash-component-suites/dash/dcc/async-graph.js HTTP/1.1\u001b[0m\" 304 -\n",
      "INFO:werkzeug:127.0.0.1 - - [06/Oct/2021 19:58:39] \"\u001b[36mGET /_dash-component-suites/dash/dcc/async-plotlyjs.js HTTP/1.1\u001b[0m\" 304 -\n"
     ]
    }
   ],
   "metadata": {}
  }
 ],
 "metadata": {
  "interpreter": {
   "hash": "b3ba2566441a7c06988d0923437866b63cedc61552a5af99d1f4fb67d367b25f"
  },
  "kernelspec": {
   "name": "python3",
   "display_name": "Python 3.8.3 64-bit ('base': conda)"
  },
  "language_info": {
   "codemirror_mode": {
    "name": "ipython",
    "version": 3
   },
   "file_extension": ".py",
   "mimetype": "text/x-python",
   "name": "python",
   "nbconvert_exporter": "python",
   "pygments_lexer": "ipython3",
   "version": "3.8.3"
  },
  "orig_nbformat": 4
 },
 "nbformat": 4,
 "nbformat_minor": 2
}